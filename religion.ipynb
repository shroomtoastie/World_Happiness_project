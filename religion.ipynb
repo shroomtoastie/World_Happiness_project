{
 "cells": [
  {
   "cell_type": "code",
   "execution_count": null,
   "metadata": {},
   "outputs": [],
   "source": [
    "import pandas as pd\n",
    "import numpy\n",
    "import matplotlib as plt\n",
    "from pandas import DataFrame\n",
    "import random"
   ]
  },
  {
   "cell_type": "code",
   "execution_count": null,
   "metadata": {},
   "outputs": [],
   "source": [
    "religion_df = pd.read_csv(\".venv\\\\religions_csv\\\\national.csv\")\n",
    "\n",
    "religion_df.head()"
   ]
  },
  {
   "cell_type": "code",
   "execution_count": null,
   "metadata": {},
   "outputs": [],
   "source": [
    "religion_df.shape"
   ]
  },
  {
   "cell_type": "code",
   "execution_count": null,
   "metadata": {},
   "outputs": [],
   "source": [
    "religion_df.info()"
   ]
  },
  {
   "cell_type": "code",
   "execution_count": null,
   "metadata": {},
   "outputs": [],
   "source": [
    "religion_df[\"year\"].value_counts()"
   ]
  },
  {
   "cell_type": "code",
   "execution_count": null,
   "metadata": {},
   "outputs": [],
   "source": [
    "religion_df.columns"
   ]
  },
  {
   "cell_type": "code",
   "execution_count": null,
   "metadata": {},
   "outputs": [],
   "source": [
    "values_todrop = [1945, 1950, 1955, 1960, 1965, 1970, 1975, 1980, 1985, 1990, 1995, 2000, 2005]\n",
    "\n",
    "religion_df = religion_df[~religion_df['year'].isin(values_todrop)]\n",
    "\n",
    "religion_df.head()"
   ]
  },
  {
   "cell_type": "code",
   "execution_count": null,
   "metadata": {},
   "outputs": [],
   "source": [
    "religion_df.shape"
   ]
  },
  {
   "cell_type": "code",
   "execution_count": null,
   "metadata": {},
   "outputs": [],
   "source": [
    "religion_df.columns = religion_df.columns.str.title()\n",
    "\n",
    "religion_df.columns"
   ]
  },
  {
   "cell_type": "code",
   "execution_count": null,
   "metadata": {},
   "outputs": [],
   "source": [
    "religion_df = religion_df.reset_index(drop=True)\n",
    "\n",
    "religion_df.head()"
   ]
  },
  {
   "cell_type": "code",
   "execution_count": null,
   "metadata": {},
   "outputs": [],
   "source": [
    "religion_df.columns"
   ]
  },
  {
   "cell_type": "code",
   "execution_count": null,
   "metadata": {},
   "outputs": [],
   "source": [
    "rel_cols_to_drop = ['Christianity_Protestant','Christianity_Easternorthodox', 'Christianity_Anglican', 'Christianity_Other',\n",
    "                    'Judaism_Orthodox', 'Judaism_Conservative', 'Judaism_Reform', 'Judaism_Other',\n",
    "                    'Islam_Sunni', 'Islam_Shi’A','Islam_Ibadhi', 'Islam_Nationofislam', 'Islam_Alawite','Islam_Ahmadiyya', 'Islam_Other',\n",
    "                    'Buddhism_Mahayana','Buddhism_Theravada', 'Buddhism_Other',\n",
    "                    'Protestant_Percent','Romancatholic_Percent', 'Easternorthodox_Percent', 'Anglican_Percent', \n",
    "                    'Otherchristianity_Percent', 'Christianity_Percent', 'Orthodox_Percent',\n",
    "                    'Conservative_Percent', 'Reform_Percent', 'Otherjudaism_Percent',\n",
    "                    'Judaism_Percent', 'Sunni_Percent', 'Shi’A_Percent', 'Ibadhi_Percent',\n",
    "                    'Nationofislam_Percent', 'Alawite_Percent', 'Ahmadiyya_Percent',\n",
    "                    'Otherislam_Percent', 'Islam_Percent', 'Mahayana_Percent',\n",
    "                    'Theravada_Percent', 'Otherbuddhism_Percent', 'Buddhism_Percent',\n",
    "                    'Zoroastrianism_Percent', 'Hinduism_Percent', 'Sikhism_Percent',\n",
    "                    'Shinto_Percent', 'Baha’I_Percent', 'Taoism_Percent', 'Jainism_Percent',\n",
    "                    'Confucianism_Percent', 'Syncretism_Percent', 'Animism_Percent',\n",
    "                    'Noreligion_Percent', 'Otherreligion_Percent', 'Religion_Sumpercent',\n",
    "                    'Total_Percent', 'Dual_Religion', 'Source_Code',\n",
    "                    'Sikhism_All', 'Shinto_All',\n",
    "                    'Baha’I_All', 'Taoism_All', 'Jainism_All', 'Confucianism_All',\n",
    "                    'Syncretism_All', 'Animism_All', 'Noreligion_All', 'Otherreligion_All',\n",
    "                    'Religion_All'\n",
    "                    ]\n",
    "\n",
    "religion_df = religion_df.drop(columns = rel_cols_to_drop)"
   ]
  },
  {
   "cell_type": "code",
   "execution_count": null,
   "metadata": {},
   "outputs": [],
   "source": [
    "religion_df.head()"
   ]
  },
  {
   "cell_type": "code",
   "execution_count": null,
   "metadata": {},
   "outputs": [],
   "source": [
    "religion_df.columns"
   ]
  },
  {
   "cell_type": "code",
   "execution_count": null,
   "metadata": {},
   "outputs": [],
   "source": [
    "religion_df = religion_df.rename(columns={'State': 'Country', 'Christianity_Romancatholic': 'Catholic', 'Christianity_All': 'Christianity', 'Judaism_All': 'Judaism', 'Islam_All': 'Islam',\n",
    "       'Buddhism_All': 'Buddhism', 'Zoroastrianism_All': 'Zoroastrianism', 'Hinduism_All': 'Hinduism'})\n",
    "\n",
    "religion_df.head()"
   ]
  },
  {
   "cell_type": "code",
   "execution_count": null,
   "metadata": {},
   "outputs": [],
   "source": [
    "print(religion_df.isnull().any().any())"
   ]
  },
  {
   "cell_type": "code",
   "execution_count": null,
   "metadata": {},
   "outputs": [],
   "source": [
    "christian_rel = religion_df.groupby('Country')['Christianity'].sum()\n",
    "\n",
    "top_christian = christian_rel.idxmax()\n",
    "\n",
    "print(top_christian)"
   ]
  },
  {
   "cell_type": "code",
   "execution_count": null,
   "metadata": {},
   "outputs": [],
   "source": [
    "judaism_rel = religion_df.groupby('Country')['Judaism'].sum()\n",
    "\n",
    "top_judaism = judaism_rel.sort_values(ascending= False)\n",
    "\n",
    "print(top_judaism)"
   ]
  },
  {
   "cell_type": "code",
   "execution_count": null,
   "metadata": {},
   "outputs": [],
   "source": [
    "islam_rel = religion_df.groupby('Country')['Islam'].sum()\n",
    "\n",
    "top_islam = islam_rel.idxmax()\n",
    "\n",
    "print(top_islam)"
   ]
  },
  {
   "cell_type": "code",
   "execution_count": null,
   "metadata": {},
   "outputs": [],
   "source": [
    "religion_df_sort = religion_df.sort_values(by='Country')\n",
    "\n",
    "religion_df_sort.head(15)"
   ]
  },
  {
   "cell_type": "code",
   "execution_count": null,
   "metadata": {},
   "outputs": [],
   "source": [
    "religion_df_sort = religion_df_sort.reset_index(drop=True)"
   ]
  },
  {
   "cell_type": "code",
   "execution_count": null,
   "metadata": {},
   "outputs": [],
   "source": [
    "religion_df_sort.head()"
   ]
  },
  {
   "cell_type": "code",
   "execution_count": null,
   "metadata": {},
   "outputs": [],
   "source": [
    "religion_df_sort.index = range(1, len(religion_df_sort)+1)\n",
    "\n",
    "religion_df_sort.head()"
   ]
  }
 ],
 "metadata": {
  "kernelspec": {
   "display_name": ".venv",
   "language": "python",
   "name": "python3"
  },
  "language_info": {
   "codemirror_mode": {
    "name": "ipython",
    "version": 3
   },
   "file_extension": ".py",
   "mimetype": "text/x-python",
   "name": "python",
   "nbconvert_exporter": "python",
   "pygments_lexer": "ipython3",
   "version": "3.13.0"
  }
 },
 "nbformat": 4,
 "nbformat_minor": 2
}
